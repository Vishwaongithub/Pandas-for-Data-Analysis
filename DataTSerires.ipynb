{
 "cells": [
  {
   "cell_type": "markdown",
   "metadata": {},
   "source": [
    "5️⃣ Working with Time-Series Data\n",
    "📌 Datetime operations and resampling"
   ]
  },
  {
   "cell_type": "code",
   "execution_count": 1,
   "metadata": {},
   "outputs": [],
   "source": [
    "import pandas as pd\n",
    "df= pd.read_csv(\"weather.csv\")"
   ]
  },
  {
   "cell_type": "code",
   "execution_count": null,
   "metadata": {},
   "outputs": [
    {
     "name": "stdout",
     "output_type": "stream",
     "text": [
      "Date                  object\n",
      "Time                  object\n",
      "City                  object\n",
      "Temperature_C        float64\n",
      "Humidity_%             int64\n",
      "Wind_Speed_kmph        int64\n",
      "Weather_Condition     object\n",
      "Precipitation_mm     float64\n",
      "Air_Quality_Index      int64\n",
      "UV_Index               int64\n",
      "Is_Weekend              bool\n",
      "Remarks               object\n",
      "dtype: object\n"
     ]
    }
   ],
   "source": [
    "print(df.dtypes)\n",
    "#here the data type of Date Column is object "
   ]
  },
  {
   "cell_type": "code",
   "execution_count": 5,
   "metadata": {},
   "outputs": [],
   "source": [
    "df['Date']=pd.to_datetime(df['Date'])"
   ]
  },
  {
   "cell_type": "code",
   "execution_count": null,
   "metadata": {},
   "outputs": [
    {
     "name": "stdout",
     "output_type": "stream",
     "text": [
      "Date                 datetime64[ns]\n",
      "Time                         object\n",
      "City                         object\n",
      "Temperature_C               float64\n",
      "Humidity_%                    int64\n",
      "Wind_Speed_kmph               int64\n",
      "Weather_Condition            object\n",
      "Precipitation_mm            float64\n",
      "Air_Quality_Index             int64\n",
      "UV_Index                      int64\n",
      "Is_Weekend                     bool\n",
      "Remarks                      object\n",
      "dtype: object\n"
     ]
    }
   ],
   "source": [
    "print(df.dtypes)\n",
    "#now you can see the data type of Data column is changd to DateTime after executing the above code^^"
   ]
  },
  {
   "cell_type": "code",
   "execution_count": 14,
   "metadata": {},
   "outputs": [
    {
     "name": "stdout",
     "output_type": "stream",
     "text": [
      "                 Date   Time         City  Temperature_C  Humidity_%  \\\n",
      "Date                                                                   \n",
      "2024-01-01 2024-01-01  08:00     New York            5.0          80   \n",
      "2024-01-02 2024-01-02  12:00  Los Angeles           12.0          65   \n",
      "2024-01-03 2024-01-03  16:00      Chicago            8.0          70   \n",
      "2024-01-04 2024-01-04  20:00      Houston            NaN          55   \n",
      "2024-01-05 2024-01-05  23:00      Phoenix           20.0          40   \n",
      "2024-01-06 2024-01-06  08:00     New York           15.0          60   \n",
      "2024-01-07 2024-01-07  12:00  Los Angeles           18.0          75   \n",
      "2024-01-08 2024-01-08  16:00      Chicago           22.0          50   \n",
      "2024-01-09 2024-01-09  20:00      Houston            NaN          45   \n",
      "2024-01-10 2024-01-10  23:00      Phoenix           30.0          35   \n",
      "2024-01-01 2024-01-01  08:00     New York            5.0          80   \n",
      "2024-01-02 2024-01-02  12:00  Los Angeles           12.0          65   \n",
      "2024-01-03 2024-01-03  16:00      Chicago            8.0          70   \n",
      "2024-01-04 2024-01-04  20:00      Houston            NaN          55   \n",
      "2024-01-05 2024-01-05  23:00      Phoenix           20.0          40   \n",
      "2024-01-06 2024-01-06  08:00     New York           15.0          60   \n",
      "2024-01-07 2024-01-07  12:00  Los Angeles           18.0          75   \n",
      "2024-01-08 2024-01-08  16:00      Chicago           22.0          50   \n",
      "2024-01-03 2024-01-03  16:00      Chicago            8.0          70   \n",
      "2024-01-08 2024-01-08  16:00      Chicago           22.0          50   \n",
      "\n",
      "            Wind_Speed_kmph Weather_Condition  Precipitation_mm  \\\n",
      "Date                                                              \n",
      "2024-01-01               10            Cloudy               2.5   \n",
      "2024-01-02               15             Sunny               0.0   \n",
      "2024-01-03               20             Rainy              10.0   \n",
      "2024-01-04                5             Clear               0.0   \n",
      "2024-01-05               12             Sunny               0.5   \n",
      "2024-01-06               14            Cloudy               1.2   \n",
      "2024-01-07               11             Sunny               0.0   \n",
      "2024-01-08                9             Rainy               5.0   \n",
      "2024-01-09                8             Clear               0.0   \n",
      "2024-01-10                7             Sunny               3.0   \n",
      "2024-01-01               10            Cloudy               2.5   \n",
      "2024-01-02               15             Sunny               0.0   \n",
      "2024-01-03               20             Rainy              10.0   \n",
      "2024-01-04                5             Clear               0.0   \n",
      "2024-01-05               12             Sunny               0.5   \n",
      "2024-01-06               14            Cloudy               1.2   \n",
      "2024-01-07               11             Sunny               0.0   \n",
      "2024-01-08                9             Rainy               5.0   \n",
      "2024-01-03               20             Rainy              10.0   \n",
      "2024-01-08                9             Rainy               5.0   \n",
      "\n",
      "            Air_Quality_Index  UV_Index  Is_Weekend      Remarks  \n",
      "Date                                                              \n",
      "2024-01-01                 45         2       False         Cold  \n",
      "2024-01-02                 30         5       False         Warm  \n",
      "2024-01-03                 60         3       False          Wet  \n",
      "2024-01-04                 25         7        True  Clear Night  \n",
      "2024-01-05                 70         6        True          Hot  \n",
      "2024-01-06                 50         4       False         Cold  \n",
      "2024-01-07                 40         3       False         Warm  \n",
      "2024-01-08                 65         5       False          Wet  \n",
      "2024-01-09                 55         2        True  Clear Night  \n",
      "2024-01-10                 20         6        True          Hot  \n",
      "2024-01-01                 45         2       False         Cold  \n",
      "2024-01-02                 30         5       False         Warm  \n",
      "2024-01-03                 60         3       False          Wet  \n",
      "2024-01-04                 25         7        True  Clear Night  \n",
      "2024-01-05                 70         6        True          Hot  \n",
      "2024-01-06                 50         4       False         Cold  \n",
      "2024-01-07                 40         3       False         Warm  \n",
      "2024-01-08                 65         5       False          Wet  \n",
      "2024-01-03                 60         3       False          Wet  \n",
      "2024-01-08                 65         5       False          Wet  \n"
     ]
    }
   ],
   "source": [
    "df.set_index(df['Date'],inplace=True)\n",
    "print(df)\n",
    "# Set_index command sets a particular column to the index of the df making the analysis easy"
   ]
  },
  {
   "cell_type": "code",
   "execution_count": null,
   "metadata": {},
   "outputs": [
    {
     "name": "stdout",
     "output_type": "stream",
     "text": [
      "            Temperature_C  Humidity_%  Wind_Speed_kmph  Precipitation_mm  \\\n",
      "Date                                                                       \n",
      "2024-01-31      15.294118        59.5             11.8              2.82   \n",
      "\n",
      "            Air_Quality_Index  UV_Index  \n",
      "Date                                     \n",
      "2024-01-31               48.5       4.3  \n"
     ]
    },
    {
     "name": "stderr",
     "output_type": "stream",
     "text": [
      "C:\\Users\\LENOVO\\AppData\\Local\\Temp\\ipykernel_320\\3985919963.py:2: FutureWarning: 'M' is deprecated and will be removed in a future version, please use 'ME' instead.\n",
      "  avg= num_cols.resample('M').mean()\n"
     ]
    }
   ],
   "source": [
    "num_cols= df.select_dtypes(include=['number'])\n",
    "avg= num_cols.resample('M').mean()\n",
    "print(avg)\n",
    "\n",
    "# Resmaple() is used to resample time-series data and compute the mean for each resampled period.\n",
    "# Firslty we have to get only that data which has numeric values, thats why we took num_cols where we only include number\n",
    "#values"
   ]
  },
  {
   "cell_type": "code",
   "execution_count": 22,
   "metadata": {},
   "outputs": [
    {
     "name": "stdout",
     "output_type": "stream",
     "text": [
      "Date\n",
      "2024-01-01     1\n",
      "2024-01-02     2\n",
      "2024-01-03     3\n",
      "2024-01-04     4\n",
      "2024-01-05     5\n",
      "2024-01-06     6\n",
      "2024-01-07     7\n",
      "2024-01-08     8\n",
      "2024-01-09     9\n",
      "2024-01-10    10\n",
      "2024-01-01     1\n",
      "2024-01-02     2\n",
      "2024-01-03     3\n",
      "2024-01-04     4\n",
      "2024-01-05     5\n",
      "2024-01-06     6\n",
      "2024-01-07     7\n",
      "2024-01-08     8\n",
      "2024-01-03     3\n",
      "2024-01-08     8\n",
      "Name: Date, dtype: int32\n"
     ]
    }
   ],
   "source": [
    "abc=df['Date'].dt.day\n",
    "print(abc)\n",
    "#This extracts the part of a date , you can also add month or year instead of day"
   ]
  }
 ],
 "metadata": {
  "kernelspec": {
   "display_name": "Python 3",
   "language": "python",
   "name": "python3"
  },
  "language_info": {
   "codemirror_mode": {
    "name": "ipython",
    "version": 3
   },
   "file_extension": ".py",
   "mimetype": "text/x-python",
   "name": "python",
   "nbconvert_exporter": "python",
   "pygments_lexer": "ipython3",
   "version": "3.12.1"
  }
 },
 "nbformat": 4,
 "nbformat_minor": 2
}
